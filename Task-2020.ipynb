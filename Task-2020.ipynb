{
 "cells": [
  {
   "cell_type": "markdown",
   "metadata": {},
   "source": [
    "# Task 2020 Assignment 1\n",
    "\n",
    "## Author: *Jack Caffrey* \n",
    "****\n",
    "\n",
    "###  Task 1. \n",
    "****\n",
    "Creating a Python Function called **Counts** that takes a list as input and returns a dictionary of unique items in the list as keys and the number of each iteam appears as values. [1]. For formatting reference see [2]. All progress was saved using GitHub [3].\n",
    "\n",
    "### Method used to complete Task 1. \n",
    "1. The variable **Values** was assigned to the elements as outlined in Task 1 of the given assignment. The count function was called to *count* the numbers of times an element appears in the list.[3].\n",
    "\n",
    "\n",
    "#### *References*:\n",
    "* [1]. I.Mcloughlin; \"Task 2020 Fundamentals of Data Analysis\"\n",
    "* [2]. Mastering Markdown; Github; https://guides.github.com/features/mastering-markdown/\n",
    "* [3]. GitHub Inc,; \"GitHub,\"; https://github.com/\n",
    "* [4]. Programiz ; Python List count() ;https://www.programiz.com/python-programming/methods/list/count"
   ]
  },
  {
   "cell_type": "code",
   "execution_count": 29,
   "metadata": {},
   "outputs": [
    {
     "name": "stdout",
     "output_type": "stream",
     "text": [
      "A: 3 B: 1 C: 1\n"
     ]
    }
   ],
   "source": [
    "values = ['A', 'A', 'B', 'C', 'A'] # list of elements\n",
    "\n",
    "counta = values.count('A') #Counts the number of times A appears in the list of elements  \n",
    "countb = values.count('B') #Counts the number of times B appears in the list of elements \n",
    "countc = values.count('C') #Counts the number of times C appears in the list of elements \n",
    "\n",
    "print('A:', counta, 'B:', countb,'C:', countc) #Prints the total numbers  of times the elements appear\n",
    "\n"
   ]
  },
  {
   "cell_type": "code",
   "execution_count": null,
   "metadata": {},
   "outputs": [],
   "source": []
  },
  {
   "cell_type": "code",
   "execution_count": null,
   "metadata": {},
   "outputs": [],
   "source": []
  },
  {
   "cell_type": "code",
   "execution_count": null,
   "metadata": {},
   "outputs": [],
   "source": []
  },
  {
   "cell_type": "code",
   "execution_count": null,
   "metadata": {},
   "outputs": [],
   "source": []
  }
 ],
 "metadata": {
  "kernelspec": {
   "display_name": "Python 3",
   "language": "python",
   "name": "python3"
  },
  "language_info": {
   "codemirror_mode": {
    "name": "ipython",
    "version": 3
   },
   "file_extension": ".py",
   "mimetype": "text/x-python",
   "name": "python",
   "nbconvert_exporter": "python",
   "pygments_lexer": "ipython3",
   "version": "3.8.3"
  }
 },
 "nbformat": 4,
 "nbformat_minor": 4
}

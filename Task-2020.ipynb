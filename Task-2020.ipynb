{
 "cells": [
  {
   "cell_type": "markdown",
   "metadata": {},
   "source": [
    "# Task 2020 Assignment 1\n",
    "\n",
    "## Author: *Jack Caffrey* \n",
    "****\n",
    "\n",
    "###  Task 1. \n",
    "****\n",
    "Creating a Python Function called **Counts** that takes a list as input and returns a dictionary of unique items in the list as keys and the number of each iteam appears as values. [1]. For formatting reference see [2]. All progress was saved using GitHub [3].\n",
    "\n",
    "### Method used to complete Task 1. \n",
    "1. The variable **Values** was assigned to the elements as outlined in Task 1 of the given assignment. The count function was called to *count* the numbers of times an element appears in the list.[3]. *(Iteration 1 of the python program)*.\n",
    "2. *Value = [ ]* was added to allow input from a user in the form of characters or digits [4]. This input is converted *(split)* from a string into a list [5]. This list is then converted into a dictionary and displayed [6].*(Iteration 1 of the python program)*.\n",
    "\n",
    "#### *References*:\n",
    "* [1]. I.Mcloughlin; \"Task 2020 Fundamentals of Data Analysis\"\n",
    "* [2]. Mastering Markdown; Github; https://guides.github.com/features/mastering-markdown/\n",
    "* [3]. GitHub Inc,; \"GitHub,\"; https://github.com/\n",
    "* [4]. Programiz; Python List count(); https://www.programiz.com/python-programming/methods/list/count\n",
    "* [5]. rahulsrivastava7; Python | Get a list as input from user; https://www.geeksforgeeks.org/python-get-a-list-as-input-fromuser/\n",
    "* [6]. w3schools; Python Dictionaries; https://www.w3schools.com/python/python_dictionaries.asp"
   ]
  },
  {
   "cell_type": "code",
   "execution_count": null,
   "metadata": {},
   "outputs": [],
   "source": [
    "value = [] # Create a empty list to allow user input the required elements\n",
    "\n",
    "value = [value for value in input(\"Enter a list of Elements: \").split()] #Takes user input as a string and \"splits\" to convert into a list \n",
    "\n",
    "'''\n",
    "Coverts user input list to dictionary \n",
    "'''\n",
    "new_Value = { \n",
    "    \n",
    "    ('A:', value.count(\"A\"), 'B:', value.count(\"B\"), 'C:', value.count(\"C\"))\n",
    "             }\n",
    "\n",
    "\n",
    "print(new_Value)\n",
    "\n",
    "\n",
    "\n",
    "\n",
    "\n",
    "         \n"
   ]
  },
  {
   "cell_type": "code",
   "execution_count": null,
   "metadata": {},
   "outputs": [],
   "source": []
  }
 ],
 "metadata": {
  "kernelspec": {
   "display_name": "Python 3",
   "language": "python",
   "name": "python3"
  },
  "language_info": {
   "codemirror_mode": {
    "name": "ipython",
    "version": 3
   },
   "file_extension": ".py",
   "mimetype": "text/x-python",
   "name": "python",
   "nbconvert_exporter": "python",
   "pygments_lexer": "ipython3",
   "version": "3.8.3"
  }
 },
 "nbformat": 4,
 "nbformat_minor": 4
}

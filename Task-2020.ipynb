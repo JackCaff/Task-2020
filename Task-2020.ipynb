{
 "cells": [
  {
   "cell_type": "markdown",
   "metadata": {},
   "source": [
    "# Task 2020 Assignment 1\n",
    "\n",
    "## Jack Caffrey \n",
    "\n",
    "###  Task 1. \n",
    "Creating a Python Function called **Counts** that takes a list as input and returns a dictionary of unique items in the list as keys and the number of each iteam appears as values. [1]. For formatting reference see [2]. \n",
    "\n",
    "#### *References*:\n",
    "* [1]. I.Mcloughlin; \"Task 2020 Fundamentals of Data Analysis\"\n",
    "* [2]. Mastering Markdown; Github; https://guides.github.com/features/mastering-markdown/"
   ]
  },
  {
   "cell_type": "code",
   "execution_count": null,
   "metadata": {},
   "outputs": [],
   "source": []
  }
 ],
 "metadata": {
  "kernelspec": {
   "display_name": "Python 3",
   "language": "python",
   "name": "python3"
  },
  "language_info": {
   "codemirror_mode": {
    "name": "ipython",
    "version": 3
   },
   "file_extension": ".py",
   "mimetype": "text/x-python",
   "name": "python",
   "nbconvert_exporter": "python",
   "pygments_lexer": "ipython3",
   "version": "3.8.3"
  }
 },
 "nbformat": 4,
 "nbformat_minor": 4
}

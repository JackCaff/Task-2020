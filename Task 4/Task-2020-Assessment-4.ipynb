{
 "cells": [
  {
   "cell_type": "markdown",
   "metadata": {},
   "source": [
    "#### Task 2020 Assignment 4\n",
    "\n",
    "#### Author: Jack Caffrey\n",
    "***\n",
    "**Task 4**.\n",
    "****\n",
    "Use numpy to create four data sets, each with an x array and a corresponding y array, to demonstrate Simpson’s paradox\n",
    "Simpson’s paradox is a well-known statistical paradox where a trend evident in a number of groups reverses when the groups are combined into one big data set [1]. For formatting reference see [2]. All progress was saved using GitHub [3].\n",
    "\n",
    "#### Method used to complete Task 4.\n",
    "\n",
    "\n",
    "\n",
    "\n",
    "**** \n",
    "Note: Program Iterations are the number of times the program was revised during development. \n",
    "****\n",
    "\n",
    "***References:***  \n",
    "* [1]. I.Mcloughlin; \"Task 2020 Fundamentals of Data Analysis\"  \n",
    "* [2]. Mastering Markdown; Github; https://guides.github.com/features/mastering-markdown/  \n",
    "* [3]. GitHub Inc,; \"GitHub,\"; https://github.com/ \n",
    "* [4]. pandas.DataFrame, pandas, https://pandas.pydata.org/pandas-docs/stable/reference/api/pandas.DataFrame.html"
   ]
  },
  {
   "cell_type": "code",
   "execution_count": 35,
   "metadata": {},
   "outputs": [
    {
     "name": "stdout",
     "output_type": "stream",
     "text": [
      "Please enter your first value: 1\n",
      "Please enter your first value.5\n"
     ]
    }
   ],
   "source": [
    "import pandas as pd # Import the pandas library \n",
    "import numpy as np # import the numpy library \n",
    "\n",
    "x = np.linspace(1.0, 5.0, 4) # Generate random 4 random x values between 1 & 5 inclusive \n",
    "\n",
    "a = float(input(\"Please enter your first value: \")) # Allows user to input \"A\" Value as a float\n",
    "b = float(input(\"Please enter your first value.\")) # Allow user to input \"B\" Value as a float\n",
    "\n",
    "y = a * x + b # y value created by mutiplying A value by x value and adding B value. \n",
    "\n",
    "data = pd.DataFrame({\"X\": x, \"Y\":y}) # Create two-dimensional data structure containing rows and columns [4]"
   ]
  },
  {
   "cell_type": "code",
   "execution_count": 36,
   "metadata": {},
   "outputs": [
    {
     "data": {
      "text/html": [
       "<div>\n",
       "<style scoped>\n",
       "    .dataframe tbody tr th:only-of-type {\n",
       "        vertical-align: middle;\n",
       "    }\n",
       "\n",
       "    .dataframe tbody tr th {\n",
       "        vertical-align: top;\n",
       "    }\n",
       "\n",
       "    .dataframe thead th {\n",
       "        text-align: right;\n",
       "    }\n",
       "</style>\n",
       "<table border=\"1\" class=\"dataframe\">\n",
       "  <thead>\n",
       "    <tr style=\"text-align: right;\">\n",
       "      <th></th>\n",
       "      <th>X</th>\n",
       "      <th>Y</th>\n",
       "    </tr>\n",
       "  </thead>\n",
       "  <tbody>\n",
       "    <tr>\n",
       "      <th>0</th>\n",
       "      <td>1.000000</td>\n",
       "      <td>6.000000</td>\n",
       "    </tr>\n",
       "    <tr>\n",
       "      <th>1</th>\n",
       "      <td>2.333333</td>\n",
       "      <td>7.333333</td>\n",
       "    </tr>\n",
       "    <tr>\n",
       "      <th>2</th>\n",
       "      <td>3.666667</td>\n",
       "      <td>8.666667</td>\n",
       "    </tr>\n",
       "    <tr>\n",
       "      <th>3</th>\n",
       "      <td>5.000000</td>\n",
       "      <td>10.000000</td>\n",
       "    </tr>\n",
       "  </tbody>\n",
       "</table>\n",
       "</div>"
      ],
      "text/plain": [
       "          X          Y\n",
       "0  1.000000   6.000000\n",
       "1  2.333333   7.333333\n",
       "2  3.666667   8.666667\n",
       "3  5.000000  10.000000"
      ]
     },
     "execution_count": 36,
     "metadata": {},
     "output_type": "execute_result"
    }
   ],
   "source": [
    "data"
   ]
  }
 ],
 "metadata": {
  "kernelspec": {
   "display_name": "Python 3",
   "language": "python",
   "name": "python3"
  },
  "language_info": {
   "codemirror_mode": {
    "name": "ipython",
    "version": 3
   },
   "file_extension": ".py",
   "mimetype": "text/x-python",
   "name": "python",
   "nbconvert_exporter": "python",
   "pygments_lexer": "ipython3",
   "version": "3.8.3"
  }
 },
 "nbformat": 4,
 "nbformat_minor": 4
}

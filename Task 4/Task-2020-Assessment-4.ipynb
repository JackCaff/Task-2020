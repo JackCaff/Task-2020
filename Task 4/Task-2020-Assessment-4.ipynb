{
 "cells": [
  {
   "cell_type": "markdown",
   "metadata": {},
   "source": [
    "#### Task 2020 Assignment 4\n",
    "\n",
    "#### Author: Jack Caffrey\n",
    "***\n",
    "**Task 4**.\n",
    "****\n",
    "Use numpy to create four data sets, each with an x array and a corresponding y array, to demonstrate Simpson’s paradox\n",
    "Simpson’s paradox is a well-known statistical paradox where a trend evident in a number of groups reverses when the groups are combined into one big data set [1]. For formatting reference see [2]. All progress was saved using GitHub [3].\n",
    "\n",
    "#### Method used to complete Task 4.\n",
    "\n",
    "\n",
    "\n",
    "\n",
    "**** \n",
    "Note: Program Iterations are the number of times the program was revised during development. \n",
    "****\n",
    "\n",
    "***References:***  \n",
    "* [1]. I.Mcloughlin; \"Task 2020 Fundamentals of Data Analysis\"  \n",
    "* [2]. Mastering Markdown; Github; https://guides.github.com/features/mastering-markdown/  \n",
    "* [3]. GitHub Inc,; \"GitHub,\"; https://github.com/ \n",
    "* [4]. pandas.DataFrame, pandas, https://pandas.pydata.org/pandas-docs/stable/reference/api/pandas.DataFrame.html"
   ]
  },
  {
   "cell_type": "code",
   "execution_count": 21,
   "metadata": {},
   "outputs": [
    {
     "name": "stdout",
     "output_type": "stream",
     "text": [
      "Please enter your A value for Data Set 1: 1\n",
      "Please enter your B value for Data Set 1: 8\n",
      "Please enter your A value for Data Set 2: 2\n",
      "Please enter your B value for Data Set 2: 9\n",
      "Please enter your A value for Data Set 3: 4\n",
      "Please enter your B value for Data Set 3: 9\n",
      "Please enter your A value for Data Set 4: 3\n",
      "Please enter your B value for Data Set 4: 9\n"
     ]
    }
   ],
   "source": [
    "import pandas as pd # Import the pandas library \n",
    "import numpy as np # import the numpy library \n",
    "import matplotlib.pyplot as plt\n",
    "\n",
    "a1 = float(input(\"Please enter your A value for Data Set 1: \")) #Allows user to input \"A\" Value as a float\n",
    "b1 = float(input(\"Please enter your B value for Data Set 1: \")) # Allow user to input \"B\" Value as a float\n",
    "\n",
    "x = np.linspace(a1, b1, 6, endpoint=True) # Generate 6 random x values between user inputed a1 & b1 values inclusive \n",
    "y = a1 * x + b1 # y value created by mutiplying A value by x value and adding B value. \n",
    "\n",
    "a2 = float(input(\"Please enter your A value for Data Set 2: \")) # Allows user to input \"A\" Value as a float for Data Set 2\n",
    "b2 = float(input(\"Please enter your B value for Data Set 2: \")) # Allow user to input \"B\" Value as a float for Data set 2\n",
    "\n",
    "x2 = np.linspace(a2, b2, 6, endpoint=True) # Generate 6 random x values between user inputed a2 & b2 values inclusive  \n",
    "y2 = a2 * x + b2 # y value created by mutiplying A value by x value and adding B value.\n",
    "\n",
    "a3 = float(input(\"Please enter your A value for Data Set 3: \")) # Allows user to input \"A\" Value as a float for Data Set 3\n",
    "b3 = float(input(\"Please enter your B value for Data Set 3: \")) # Allow user to input \"B\" Value as a float for Data Set 3\n",
    "\n",
    "x3 = np.linspace(a3, b3, 6, endpoint=True) # Generate 6 random x values between user inputed a3 & b3 values inclusive \n",
    "y3 = a3 * x + b3 # y value created by mutiplying A value by x value and adding B value.\n",
    "\n",
    "a4 = float(input(\"Please enter your A value for Data Set 4: \")) # Allows user to input \"A\" Value as a float for Data Set 4\n",
    "b4 = float(input(\"Please enter your B value for Data Set 4: \")) # Allow user to input \"B\" Value as a float for Data Set 4\n",
    "\n",
    "x4 = np.linspace(a4, b4, 6, endpoint=True) # Generate 6 random x values between user inputed a4 & b4 values inclusive\n",
    "y4 = a4 * x + b4 # y value created by mutiplying A value by x value and adding B value.\n"
   ]
  },
  {
   "cell_type": "code",
   "execution_count": 22,
   "metadata": {},
   "outputs": [],
   "source": [
    "df1= pd.DataFrame({ \"X\": x, \"Y\":y,}) \n",
    "df2= pd.DataFrame({ \"X2\": x2, \"Y2\":y2,})\n",
    "df3= pd.DataFrame({ \"X3\": x3, \"Y3\":y3,})\n",
    "df4= pd.DataFrame({ \"X4\": x4, \"Y4\":y4,})"
   ]
  },
  {
   "cell_type": "code",
   "execution_count": 23,
   "metadata": {},
   "outputs": [
    {
     "data": {
      "image/png": "[encoded data removed]",
      "text/plain": [
       "<Figure size 432x288 with 1 Axes>"
      ]
     },
     "metadata": {
      "needs_background": "light"
     },
     "output_type": "display_data"
    }
   ],
   "source": [
    "df1\n",
    "\n",
    "plt.scatter(x, y, label=\"Data Set 1\");\n",
    "plt.plot(x,y);\n",
    "plt.legend();"
   ]
  },
  {
   "cell_type": "code",
   "execution_count": 27,
   "metadata": {},
   "outputs": [
    {
     "data": {
      "text/html": [
       "<div>\n",
       "<style scoped>\n",
       "    .dataframe tbody tr th:only-of-type {\n",
       "        vertical-align: middle;\n",
       "    }\n",
       "\n",
       "    .dataframe tbody tr th {\n",
       "        vertical-align: top;\n",
       "    }\n",
       "\n",
       "    .dataframe thead th {\n",
       "        text-align: right;\n",
       "    }\n",
       "</style>\n",
       "<table border=\"1\" class=\"dataframe\">\n",
       "  <thead>\n",
       "    <tr style=\"text-align: right;\">\n",
       "      <th></th>\n",
       "      <th>X2</th>\n",
       "      <th>Y2</th>\n",
       "    </tr>\n",
       "  </thead>\n",
       "  <tbody>\n",
       "    <tr>\n",
       "      <th>0</th>\n",
       "      <td>2.0</td>\n",
       "      <td>11.0</td>\n",
       "    </tr>\n",
       "    <tr>\n",
       "      <th>1</th>\n",
       "      <td>3.4</td>\n",
       "      <td>13.8</td>\n",
       "    </tr>\n",
       "    <tr>\n",
       "      <th>2</th>\n",
       "      <td>4.8</td>\n",
       "      <td>16.6</td>\n",
       "    </tr>\n",
       "    <tr>\n",
       "      <th>3</th>\n",
       "      <td>6.2</td>\n",
       "      <td>19.4</td>\n",
       "    </tr>\n",
       "    <tr>\n",
       "      <th>4</th>\n",
       "      <td>7.6</td>\n",
       "      <td>22.2</td>\n",
       "    </tr>\n",
       "    <tr>\n",
       "      <th>5</th>\n",
       "      <td>9.0</td>\n",
       "      <td>25.0</td>\n",
       "    </tr>\n",
       "  </tbody>\n",
       "</table>\n",
       "</div>"
      ],
      "text/plain": [
       "    X2    Y2\n",
       "0  2.0  11.0\n",
       "1  3.4  13.8\n",
       "2  4.8  16.6\n",
       "3  6.2  19.4\n",
       "4  7.6  22.2\n",
       "5  9.0  25.0"
      ]
     },
     "execution_count": 27,
     "metadata": {},
     "output_type": "execute_result"
    }
   ],
   "source": [
    "df2"
   ]
  },
  {
   "cell_type": "code",
   "execution_count": 28,
   "metadata": {},
   "outputs": [
    {
     "data": {
      "image/png": "[encoded data removed]",
      "text/plain": [
       "<Figure size 432x288 with 1 Axes>"
      ]
     },
     "metadata": {
      "needs_background": "light"
     },
     "output_type": "display_data"
    }
   ],
   "source": [
    "plt.scatter(x2, y2, label=\"Data Set 2\");\n",
    "plt.plot(x2,y2);\n",
    "plt.legend();"
   ]
  },
  {
   "cell_type": "code",
   "execution_count": 18,
   "metadata": {},
   "outputs": [
    {
     "data": {
      "text/html": [
       "<div>\n",
       "<style scoped>\n",
       "    .dataframe tbody tr th:only-of-type {\n",
       "        vertical-align: middle;\n",
       "    }\n",
       "\n",
       "    .dataframe tbody tr th {\n",
       "        vertical-align: top;\n",
       "    }\n",
       "\n",
       "    .dataframe thead th {\n",
       "        text-align: right;\n",
       "    }\n",
       "</style>\n",
       "<table border=\"1\" class=\"dataframe\">\n",
       "  <thead>\n",
       "    <tr style=\"text-align: right;\">\n",
       "      <th></th>\n",
       "      <th>X3</th>\n",
       "      <th>Y3</th>\n",
       "    </tr>\n",
       "  </thead>\n",
       "  <tbody>\n",
       "    <tr>\n",
       "      <th>0</th>\n",
       "      <td>4.0</td>\n",
       "      <td>7.0</td>\n",
       "    </tr>\n",
       "    <tr>\n",
       "      <th>1</th>\n",
       "      <td>3.8</td>\n",
       "      <td>8.6</td>\n",
       "    </tr>\n",
       "    <tr>\n",
       "      <th>2</th>\n",
       "      <td>3.6</td>\n",
       "      <td>10.2</td>\n",
       "    </tr>\n",
       "    <tr>\n",
       "      <th>3</th>\n",
       "      <td>3.4</td>\n",
       "      <td>11.8</td>\n",
       "    </tr>\n",
       "    <tr>\n",
       "      <th>4</th>\n",
       "      <td>3.2</td>\n",
       "      <td>13.4</td>\n",
       "    </tr>\n",
       "    <tr>\n",
       "      <th>5</th>\n",
       "      <td>3.0</td>\n",
       "      <td>15.0</td>\n",
       "    </tr>\n",
       "  </tbody>\n",
       "</table>\n",
       "</div>"
      ],
      "text/plain": [
       "    X3    Y3\n",
       "0  4.0   7.0\n",
       "1  3.8   8.6\n",
       "2  3.6  10.2\n",
       "3  3.4  11.8\n",
       "4  3.2  13.4\n",
       "5  3.0  15.0"
      ]
     },
     "execution_count": 18,
     "metadata": {},
     "output_type": "execute_result"
    }
   ],
   "source": [
    "df3\n",
    "\n",
    "plt.scatter(x3, y3, label=\"Data Set 3\");\n",
    "plt.plot(x3,y3);\n",
    "plt.legend();"
   ]
  },
  {
   "cell_type": "code",
   "execution_count": 20,
   "metadata": {},
   "outputs": [
    {
     "data": {
      "image/png": "[encoded data removed]",
      "text/plain": [
       "<Figure size 432x288 with 1 Axes>"
      ]
     },
     "metadata": {
      "needs_background": "light"
     },
     "output_type": "display_data"
    }
   ],
   "source": [
    "df4\n",
    "plt.scatter(x4, y4, label=\"Data Set 4\");\n",
    "plt.plot(x4,y4);\n",
    "plt.legend();"
   ]
  },
  {
   "cell_type": "code",
   "execution_count": null,
   "metadata": {},
   "outputs": [],
   "source": []
  }
 ],
 "metadata": {
  "kernelspec": {
   "display_name": "Python 3",
   "language": "python",
   "name": "python3"
  },
  "language_info": {
   "codemirror_mode": {
    "name": "ipython",
    "version": 3
   },
   "file_extension": ".py",
   "mimetype": "text/x-python",
   "name": "python",
   "nbconvert_exporter": "python",
   "pygments_lexer": "ipython3",
   "version": "3.8.3"
  }
 },
 "nbformat": 4,
 "nbformat_minor": 4
}

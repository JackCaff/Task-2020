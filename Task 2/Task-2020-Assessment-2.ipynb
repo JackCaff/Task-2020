{
 "cells": [
  {
   "cell_type": "markdown",
   "metadata": {},
   "source": [
    "### Task 2020 Assignment 2\n",
    "### Author: Jack Caffrey\n",
    "***\n",
    "### Task 2.\n",
    "***\n",
    "\n",
    "Creating a Python function called **Dicerolls** that simulates rolling dice. The function is required to return a dictionary with the number of times each possible total face value occurred. [1]. For formatting reference see[2]. All progress was saved using Github [3].\n",
    "\n",
    "#### Method used to complete Task 2. \n",
    "\n",
    "1. Numpy package was imported as np to gain access to numpy library. \n",
    "2. D1 & D2 were declared as independant variables to allow the range increase by k times depending on the number of dice rolled.   \n",
    "3. The function ***dicerolls(k)*** declared with return (D1,D2) was created. The Dicerolls function was called using the form dicerolls(k=2) to observe the output to verify the approach taken worked as required. Expected outcome was values 2 and 12. \n",
    "4. ***np.random.default_rng()*** was used to generate random numbers between D1 & D2 inclusive. The expected outcome for ***dicerolls(k=2)*** was a value between 2 & 12 inclusive. [4]\n",
    "5. ***size*** parameter was added to generate the required number of values. This was initially trialed using ***size=2***. The expected outcome was two values ranging between 2 & 12 inclusive. The second parameter 'n' was added to create the function with 2 parameters ***dicerolls(k,n)***. At this point size=2 was replaced by ***size=n***. This would raise the number of value return equal to the numbers of rolls of the dice. \n",
    "6. Collections package imported to the program. ***new_y*** variable declared to count & store the number of times values appear. [5]\n",
    "7. From previous learning in the programming for Data Analysis model the dict() class was called to convert the ouput of ***y*** into a dictionary.\n",
    "\n",
    "*** \n",
    "Note: Program Iterations are the number of times the program was revised during development.\n",
    "***\n",
    " #### *References:*\n",
    " * [1]. I.Mcloughlin; \"Task 2020 Fundamentals of Data Analysis\"  \n",
    " * [2]. Mastering Markdown; Github; https://guides.github.com/features/mastering-markdown/  \n",
    " * [3]. GitHub Inc; \"GitHub,\"; https://github.com/  \n",
    " * [4]. Numpy, numpy.random.Generator.integers, https://numpy.org/doc/stable/reference/random/generated/numpy.random.Generator.integers.html#numpy.random.Generator.integers \n",
    " * [5] Python, collections -Container datatypes, https://docs.python.org/3/library/collections.html   "
   ]
  },
  {
   "cell_type": "code",
   "execution_count": 1,
   "metadata": {},
   "outputs": [],
   "source": [
    "import numpy as np\n",
    "import collections\n",
    "\n",
    "def dicerolls(k,n): # Declaring the function dicerolls(): \n",
    "    \n",
    "    D1 = k * 1 # Assign the dice values range from 1\n",
    "    D2 = k * 6 # Assign the dice values range to 6\n",
    "\n",
    "    x = np.random.default_rng()\n",
    "    \n",
    "    y = (x.integers(D1,D2,size=n,endpoint=True)) # Range D1 & D2 inclusive as endpoint=True\n",
    "    \n",
    "    new_y = dict((collections.Counter(y))) # counts the number of times a value is rolled\n",
    "  \n",
    "    return new_y # return the output of the function dicerolls(k,n)"
   ]
  },
  {
   "cell_type": "code",
   "execution_count": 2,
   "metadata": {},
   "outputs": [
    {
     "data": {
      "text/plain": [
       "{5: 88,\n",
       " 7: 72,\n",
       " 3: 100,\n",
       " 6: 85,\n",
       " 12: 92,\n",
       " 10: 105,\n",
       " 2: 91,\n",
       " 4: 82,\n",
       " 9: 103,\n",
       " 8: 81,\n",
       " 11: 101}"
      ]
     },
     "execution_count": 2,
     "metadata": {},
     "output_type": "execute_result"
    }
   ],
   "source": [
    "dicerolls(k=2,n=1000)"
   ]
  },
  {
   "cell_type": "markdown",
   "metadata": {},
   "source": [
    "#### END"
   ]
  }
 ],
 "metadata": {
  "kernelspec": {
   "display_name": "Python 3",
   "language": "python",
   "name": "python3"
  },
  "language_info": {
   "codemirror_mode": {
    "name": "ipython",
    "version": 3
   },
   "file_extension": ".py",
   "mimetype": "text/x-python",
   "name": "python",
   "nbconvert_exporter": "python",
   "pygments_lexer": "ipython3",
   "version": "3.8.3"
  }
 },
 "nbformat": 4,
 "nbformat_minor": 4
}

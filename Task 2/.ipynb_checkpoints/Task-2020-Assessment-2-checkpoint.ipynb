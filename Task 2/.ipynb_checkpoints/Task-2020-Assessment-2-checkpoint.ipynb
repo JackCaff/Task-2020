{
 "cells": [
  {
   "cell_type": "markdown",
   "metadata": {},
   "source": [
    "### Task 2020 Assignment 2\n",
    "### Author: Jack Caffrey\n",
    "***\n",
    "### Task 2.\n",
    "***\n",
    "\n",
    "Creating a Python function called **Dicerolls** that simulates rolling dice. The function is required to return a dictionary with the number of times each possible total face value occurred. [1]. For formatting reference see[2]. All progress was saved using Github [3].\n",
    "\n",
    "#### Method used to complete Task 2. \n",
    "\n",
    "1. Numpy package was imported as np to gain access to numpy library. \n",
    "2. D1 & D2 were declared as independant variables to allow the range increase by k times depending on the number of dice rolled.   \n",
    "3. The function ***dicerolls(k)*** declared with return (D1,D2) was created. The Dicerolls function was called using the form dicerolls(k=2) to observe the output to verify the approach taken worked was required. Expected outcome was values 2 and 12. \n",
    "4. ***np.random.default_rng()*** was used to generate random numbers between D1 & D2 inclusive. Te expected outcome for ***dicerolls(K=2)*** was a value between 2 & 12 inclusive. [4]\n",
    "\n",
    "\n",
    "\n",
    "\n",
    "*** \n",
    "Note: Program Iterations are the number of times the program was revised during development.\n",
    "***\n",
    " #### *References:*\n",
    " * [1]. I.Mcloughlin; \"Task 2020 Fundamentals of Data Analysis\"  \n",
    " * [2]. Mastering Markdown; Github; https://guides.github.com/features/mastering-markdown/  \n",
    " * [3]. GitHub Inc; \"GitHub,\"; https://github.com/  \n",
    " * [4]. Numpy, numpy.random.Generator.integers, https://numpy.org/doc/stable/reference/random/generated/numpy.random.Generator.integers.html#numpy.random.Generator.integers \n",
    " "
   ]
  },
  {
   "cell_type": "code",
   "execution_count": 1,
   "metadata": {},
   "outputs": [],
   "source": [
    "import numpy as np\n",
    "\n",
    "\n",
    "\n",
    "def dicerolls(k): # Declaring the function dicerolls(): \n",
    "    \n",
    "\n",
    "    D1 = k * 1 # Assign the dice values range from 1\n",
    "    D2 = k * 6 # Assign the dice values range to 6\n",
    "\n",
    "    x = np.random.default_rng()\n",
    "    \n",
    "    y = (x.integers(D1,D2,endpoint=True)) # Range D1 & D2 inclusive as endpoint=True\n",
    "  \n",
    "    return y # return the output of the function"
   ]
  },
  {
   "cell_type": "code",
   "execution_count": 2,
   "metadata": {},
   "outputs": [
    {
     "data": {
      "text/plain": [
       "4"
      ]
     },
     "execution_count": 2,
     "metadata": {},
     "output_type": "execute_result"
    }
   ],
   "source": [
    "dicerolls(k=2)"
   ]
  },
  {
   "cell_type": "markdown",
   "metadata": {},
   "source": [
    "#### END"
   ]
  }
 ],
 "metadata": {
  "kernelspec": {
   "display_name": "Python 3",
   "language": "python",
   "name": "python3"
  },
  "language_info": {
   "codemirror_mode": {
    "name": "ipython",
    "version": 3
   },
   "file_extension": ".py",
   "mimetype": "text/x-python",
   "name": "python",
   "nbconvert_exporter": "python",
   "pygments_lexer": "ipython3",
   "version": "3.8.3"
  }
 },
 "nbformat": 4,
 "nbformat_minor": 4
}

{
 "cells": [
  {
   "cell_type": "markdown",
   "metadata": {},
   "source": [
    "# Task 2020 Assignment 1\n",
    "\n",
    "## Author: *Jack Caffrey* \n",
    "****\n",
    "\n",
    "###  Task 1. \n",
    "****\n",
    "Creating a Python Function called **Counts** that takes a list as input and returns a dictionary of unique items in the list as keys and the number of each iteam appears as values. [1]. For formatting reference see [2]. All progress was saved using GitHub [3].\n",
    "\n",
    "### Method used to complete Task 1. \n",
    "1. The variable *Value* was assigned to the elements as outlined in Task 1 of the given assignment. The count function was called to *count* the numbers of times an element appears in the list.[3]. *(Iteration 1 of the python program)*.\n",
    "2. *Value = [ ]* was added to allow input from a user in the form of characters or digits [4]. This input is converted *(split)* from a string into a list [5]. This list is then converted into a dictionary with the variable *new_Value* and displayed [6].*(Iteration 2 of the python program)*.\n",
    "3. *def counts ():* Function was created to return *new_Value* when called upon in the program [7]. *(Iteration 3 of the python program)*. \n",
    "4. Current program limitations. ***(Corrected as of 15/11/2020)***. See Point 5 below\n",
    "    * 4.1 Program will only count the elements assigned in the *value.count(\"\")*. These elements are pre determined by the input elements from the assignment. In order to count other elements, the elements will need to be updated in the program. Futher research and program development will be required. \n",
    "5. new_Value returns the user inputted ***value*** converted into a dictionary using the ***dic()*** function. The number of times a value is entered is counted using ***value.count(x)***. The final output displays the value entered and the number of times it appears in the list. [8].\n",
    "    \n",
    "*** \n",
    "Note: Program Iterations are the number of times the program was revised during development.\n",
    "***\n",
    "\n",
    "#### *References*:\n",
    "* [1]. I.Mcloughlin; \"Task 2020 Fundamentals of Data Analysis\"\n",
    "* [2]. Mastering Markdown; Github; https://guides.github.com/features/mastering-markdown/\n",
    "* [3]. GitHub Inc,; \"GitHub,\"; https://github.com/\n",
    "* [4]. Programiz; Python List count(); https://www.programiz.com/python-programming/methods/list/count\n",
    "* [5]. rahulsrivastava7; Python | Get a list as input from user; https://www.geeksforgeeks.org/python-get-a-list-as-input-fromuser/\n",
    "* [6]. w3schools; Python Dictionaries; https://www.w3schools.com/python/python_dictionaries.asp\n",
    "* [7]. ianmcloughlin; About functions; https://github.com/ianmcloughlin/jupyter-teaching-notebooks/blob/master/about-functions.ipynb\n",
    "* [8]. Martijn Pieters; How can I count the occurrences of a list item?; https://stackoverflow.com/questions/2600191/how-can-i-count-the-occurrences-of-a-list-item "
   ]
  },
  {
   "cell_type": "code",
   "execution_count": 1,
   "metadata": {},
   "outputs": [],
   "source": [
    "def counts(): #Create the functions counts\n",
    "\n",
    "    value = [] # Create a empty list to allow user input the required elements\n",
    "\n",
    "    value = [value for value in input(\"Enter a list of Elements: \").split()]#Takes user input as a string and \"splits\" to convert into a list \n",
    "  \n",
    "    '''\n",
    "    Coverts user input list to dictionary \n",
    "    '''\n",
    "    new_Value = dict((x,value.count(x)) for x in set (value))\n",
    "        \n",
    "    return (new_Value) # function when called returns new_Value\n",
    "\n",
    "\n",
    "         \n"
   ]
  },
  {
   "cell_type": "code",
   "execution_count": 2,
   "metadata": {},
   "outputs": [
    {
     "name": "stdout",
     "output_type": "stream",
     "text": [
      "Enter a list of Elements: A A B C A\n"
     ]
    },
    {
     "data": {
      "text/plain": [
       "{'C': 1, 'B': 1, 'A': 3}"
      ]
     },
     "execution_count": 2,
     "metadata": {},
     "output_type": "execute_result"
    }
   ],
   "source": [
    "counts()"
   ]
  },
  {
   "cell_type": "markdown",
   "metadata": {},
   "source": [
    "#### END"
   ]
  }
 ],
 "metadata": {
  "kernelspec": {
   "display_name": "Python 3",
   "language": "python",
   "name": "python3"
  },
  "language_info": {
   "codemirror_mode": {
    "name": "ipython",
    "version": 3
   },
   "file_extension": ".py",
   "mimetype": "text/x-python",
   "name": "python",
   "nbconvert_exporter": "python",
   "pygments_lexer": "ipython3",
   "version": "3.8.3"
  }
 },
 "nbformat": 4,
 "nbformat_minor": 4
}
